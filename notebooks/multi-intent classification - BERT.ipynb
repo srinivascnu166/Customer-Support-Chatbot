{
 "cells": [
  {
   "cell_type": "markdown",
   "id": "24797c21",
   "metadata": {},
   "source": [
    "# Problem Statement: Multi-Intent Classification for Customer Support Chatbot"
   ]
  },
  {
   "cell_type": "markdown",
   "id": "af6efb10",
   "metadata": {},
   "source": [
    "You are building a customer support chatbot for a retail company that sells products online. The goal of the chatbot is to assist customers in multiple ways, including answering product-related queries, tracking orders, handling refunds, and providing general information about store policies.\n",
    "\n",
    "Each customer query can have multiple intents, such as requesting information about a product and also asking about its availability. The chatbot should be able to classify these queries into one or more intents simultaneously. For example, the query \"What are the features of the latest phone, and can I return it?\" has two intents: one related to product information and the other related to returns"
   ]
  },
  {
   "cell_type": "markdown",
   "id": "396c988a",
   "metadata": {},
   "source": [
    "### Objective:\n",
    "* Create a model that can classify a given customer query into one or more intents from the following categories:\n",
    "\n",
    "* Product Inquiry - Queries related to product details (e.g., features, pricing, availability).\n",
    "\n",
    "* Order Tracking - Queries related to tracking orders (e.g., \"Where is my order?\").\n",
    "\n",
    "* Refund Request - Queries related to requesting a refund (e.g., \"How do I return this product?\").\n",
    "\n",
    "* Store Policy - Queries related to the store’s policies (e.g., return policies, delivery times).\n",
    "\n",
    "The model should be able to classify one or more intents for each query."
   ]
  },
  {
   "cell_type": "markdown",
   "id": "a3f5de94",
   "metadata": {},
   "source": [
    "# Approach:"
   ]
  },
  {
   "cell_type": "markdown",
   "id": "09eff8f1",
   "metadata": {},
   "source": [
    "I am using Pretrained BERT model as my choice for following reasons....\n",
    "1. Model is better at understanding <b>context</b> more deeply.\n",
    "2. You can get state-of-the-art results with relatively small datasets using <b>Transfer Learning.</b>\n",
    "3. Since it's pre-trained, you don’t need to train it from scratch all you have to do is fine-tune the existing model for desired problem.\n"
   ]
  },
  {
   "cell_type": "markdown",
   "id": "aef8abde",
   "metadata": {},
   "source": [
    "### Python version: 3.10.17\n",
    "### libraries mainly used : scikit-learn, pytorch, transformers"
   ]
  },
  {
   "cell_type": "code",
   "execution_count": 1,
   "id": "21e8b732",
   "metadata": {},
   "outputs": [],
   "source": [
    "#importing all necessary libraries\n",
    "import warnings\n",
    "warnings.filterwarnings('ignore')\n",
    "import pandas as pd\n",
    "import numpy as np\n",
    "import re\n",
    "from transformers import BertTokenizer\n",
    "import torch\n",
    "from torch.utils.data import Dataset, DataLoader\n",
    "from transformers import BertTokenizer, BertModel\n",
    "import torch.nn as nn\n",
    "import torch.nn.functional as F\n",
    "\n",
    "from sklearn.metrics import f1_score, precision_score, recall_score\n",
    "from sklearn.model_selection import train_test_split\n",
    "from sklearn.preprocessing import MultiLabelBinarizer\n",
    "from sklearn.utils.class_weight import compute_class_weight\n",
    "\n",
    "from ast import literal_eval\n",
    "\n",
    "from torch.optim import AdamW"
   ]
  },
  {
   "cell_type": "code",
   "execution_count": 2,
   "id": "f6295902",
   "metadata": {},
   "outputs": [
    {
     "data": {
      "text/html": [
       "<div>\n",
       "<style scoped>\n",
       "    .dataframe tbody tr th:only-of-type {\n",
       "        vertical-align: middle;\n",
       "    }\n",
       "\n",
       "    .dataframe tbody tr th {\n",
       "        vertical-align: top;\n",
       "    }\n",
       "\n",
       "    .dataframe thead th {\n",
       "        text-align: right;\n",
       "    }\n",
       "</style>\n",
       "<table border=\"1\" class=\"dataframe\">\n",
       "  <thead>\n",
       "    <tr style=\"text-align: right;\">\n",
       "      <th></th>\n",
       "      <th>text</th>\n",
       "      <th>intents</th>\n",
       "    </tr>\n",
       "  </thead>\n",
       "  <tbody>\n",
       "    <tr>\n",
       "      <th>0</th>\n",
       "      <td>could you explain what is your return policy??...</td>\n",
       "      <td>['Store Policy', 'Product Inquiry']</td>\n",
       "    </tr>\n",
       "    <tr>\n",
       "      <th>1</th>\n",
       "      <td>what are the different color options that are ...</td>\n",
       "      <td>['Product Inquiry', 'Store Policy', 'Order Tra...</td>\n",
       "    </tr>\n",
       "    <tr>\n",
       "      <th>2</th>\n",
       "      <td>can you explain your warranty terms? would lik...</td>\n",
       "      <td>['Store Policy', 'Refund Request']</td>\n",
       "    </tr>\n",
       "    <tr>\n",
       "      <th>3</th>\n",
       "      <td>would like to get details about can you provid...</td>\n",
       "      <td>['Order Tracking', 'Store Policy', 'Refund Req...</td>\n",
       "    </tr>\n",
       "    <tr>\n",
       "      <th>4</th>\n",
       "      <td>could you explain do you have this goods in st...</td>\n",
       "      <td>['Product Inquiry', 'Refund Request', 'Order T...</td>\n",
       "    </tr>\n",
       "    <tr>\n",
       "      <th>...</th>\n",
       "      <td>...</td>\n",
       "      <td>...</td>\n",
       "    </tr>\n",
       "    <tr>\n",
       "      <th>95</th>\n",
       "      <td>can i return my order? please help me understa...</td>\n",
       "      <td>['Refund Request', 'Store Policy']</td>\n",
       "    </tr>\n",
       "    <tr>\n",
       "      <th>96</th>\n",
       "      <td>what is the price of the new headphones? i do ...</td>\n",
       "      <td>['Product Inquiry', 'Refund Request', 'Store P...</td>\n",
       "    </tr>\n",
       "    <tr>\n",
       "      <th>97</th>\n",
       "      <td>can i cancel my shipment and get a money back?...</td>\n",
       "      <td>['Refund Request', 'Order Tracking', 'Store Po...</td>\n",
       "    </tr>\n",
       "    <tr>\n",
       "      <th>98</th>\n",
       "      <td>could you explain i do not want this goods any...</td>\n",
       "      <td>['Refund Request', 'Product Inquiry']</td>\n",
       "    </tr>\n",
       "    <tr>\n",
       "      <th>99</th>\n",
       "      <td>would like to get details about can you explai...</td>\n",
       "      <td>['Store Policy', 'Product Inquiry', 'Refund Re...</td>\n",
       "    </tr>\n",
       "  </tbody>\n",
       "</table>\n",
       "<p>100 rows × 2 columns</p>\n",
       "</div>"
      ],
      "text/plain": [
       "                                                 text  \\\n",
       "0   could you explain what is your return policy??...   \n",
       "1   what are the different color options that are ...   \n",
       "2   can you explain your warranty terms? would lik...   \n",
       "3   would like to get details about can you provid...   \n",
       "4   could you explain do you have this goods in st...   \n",
       "..                                                ...   \n",
       "95  can i return my order? please help me understa...   \n",
       "96  what is the price of the new headphones? i do ...   \n",
       "97  can i cancel my shipment and get a money back?...   \n",
       "98  could you explain i do not want this goods any...   \n",
       "99  would like to get details about can you explai...   \n",
       "\n",
       "                                              intents  \n",
       "0                 ['Store Policy', 'Product Inquiry']  \n",
       "1   ['Product Inquiry', 'Store Policy', 'Order Tra...  \n",
       "2                  ['Store Policy', 'Refund Request']  \n",
       "3   ['Order Tracking', 'Store Policy', 'Refund Req...  \n",
       "4   ['Product Inquiry', 'Refund Request', 'Order T...  \n",
       "..                                                ...  \n",
       "95                 ['Refund Request', 'Store Policy']  \n",
       "96  ['Product Inquiry', 'Refund Request', 'Store P...  \n",
       "97  ['Refund Request', 'Order Tracking', 'Store Po...  \n",
       "98              ['Refund Request', 'Product Inquiry']  \n",
       "99  ['Store Policy', 'Product Inquiry', 'Refund Re...  \n",
       "\n",
       "[100 rows x 2 columns]"
      ]
     },
     "execution_count": 2,
     "metadata": {},
     "output_type": "execute_result"
    }
   ],
   "source": [
    "#reading the prepared data....\n",
    "df = pd.read_csv('prepared_data.csv')\n",
    "df"
   ]
  },
  {
   "cell_type": "markdown",
   "id": "4e53248a",
   "metadata": {},
   "source": [
    "###  As we have multiple classes, MultiLabelBinarizer from scikit-learn is used for label transform"
   ]
  },
  {
   "cell_type": "code",
   "execution_count": 3,
   "id": "dafd1e03",
   "metadata": {},
   "outputs": [
    {
     "name": "stdout",
     "output_type": "stream",
     "text": [
      "['Order Tracking' 'Product Inquiry' 'Refund Request' 'Store Policy']\n"
     ]
    }
   ],
   "source": [
    "df['intents'] = df['intents'].apply(literal_eval)\n",
    "\n",
    "mlb = MultiLabelBinarizer()\n",
    "df['label_vector'] = mlb.fit_transform(df['intents']).tolist()\n",
    "intent_labels = mlb.classes_\n",
    "print(intent_labels)"
   ]
  },
  {
   "cell_type": "code",
   "execution_count": 4,
   "id": "c142fc7a",
   "metadata": {},
   "outputs": [
    {
     "data": {
      "text/html": [
       "<div>\n",
       "<style scoped>\n",
       "    .dataframe tbody tr th:only-of-type {\n",
       "        vertical-align: middle;\n",
       "    }\n",
       "\n",
       "    .dataframe tbody tr th {\n",
       "        vertical-align: top;\n",
       "    }\n",
       "\n",
       "    .dataframe thead th {\n",
       "        text-align: right;\n",
       "    }\n",
       "</style>\n",
       "<table border=\"1\" class=\"dataframe\">\n",
       "  <thead>\n",
       "    <tr style=\"text-align: right;\">\n",
       "      <th></th>\n",
       "      <th>text</th>\n",
       "      <th>intents</th>\n",
       "      <th>label_vector</th>\n",
       "    </tr>\n",
       "  </thead>\n",
       "  <tbody>\n",
       "    <tr>\n",
       "      <th>0</th>\n",
       "      <td>could you explain what is your return policy??...</td>\n",
       "      <td>[Store Policy, Product Inquiry]</td>\n",
       "      <td>[0, 1, 0, 1]</td>\n",
       "    </tr>\n",
       "    <tr>\n",
       "      <th>1</th>\n",
       "      <td>what are the different color options that are ...</td>\n",
       "      <td>[Product Inquiry, Store Policy, Order Tracking]</td>\n",
       "      <td>[1, 1, 0, 1]</td>\n",
       "    </tr>\n",
       "    <tr>\n",
       "      <th>2</th>\n",
       "      <td>can you explain your warranty terms? would lik...</td>\n",
       "      <td>[Store Policy, Refund Request]</td>\n",
       "      <td>[0, 0, 1, 1]</td>\n",
       "    </tr>\n",
       "    <tr>\n",
       "      <th>3</th>\n",
       "      <td>would like to get details about can you provid...</td>\n",
       "      <td>[Order Tracking, Store Policy, Refund Request]</td>\n",
       "      <td>[1, 0, 1, 1]</td>\n",
       "    </tr>\n",
       "    <tr>\n",
       "      <th>4</th>\n",
       "      <td>could you explain do you have this goods in st...</td>\n",
       "      <td>[Product Inquiry, Refund Request, Order Tracking]</td>\n",
       "      <td>[1, 1, 1, 0]</td>\n",
       "    </tr>\n",
       "  </tbody>\n",
       "</table>\n",
       "</div>"
      ],
      "text/plain": [
       "                                                text  \\\n",
       "0  could you explain what is your return policy??...   \n",
       "1  what are the different color options that are ...   \n",
       "2  can you explain your warranty terms? would lik...   \n",
       "3  would like to get details about can you provid...   \n",
       "4  could you explain do you have this goods in st...   \n",
       "\n",
       "                                             intents  label_vector  \n",
       "0                    [Store Policy, Product Inquiry]  [0, 1, 0, 1]  \n",
       "1    [Product Inquiry, Store Policy, Order Tracking]  [1, 1, 0, 1]  \n",
       "2                     [Store Policy, Refund Request]  [0, 0, 1, 1]  \n",
       "3     [Order Tracking, Store Policy, Refund Request]  [1, 0, 1, 1]  \n",
       "4  [Product Inquiry, Refund Request, Order Tracking]  [1, 1, 1, 0]  "
      ]
     },
     "execution_count": 4,
     "metadata": {},
     "output_type": "execute_result"
    }
   ],
   "source": [
    "df.head()"
   ]
  },
  {
   "cell_type": "code",
   "execution_count": 5,
   "id": "aaac192d",
   "metadata": {},
   "outputs": [],
   "source": [
    "#set the device to use gpu if available or else cpu\n",
    "device = torch.device(\"cuda\" if torch.cuda.is_available() else \"cpu\")\n"
   ]
  },
  {
   "cell_type": "markdown",
   "id": "89f4429a",
   "metadata": {},
   "source": [
    "### As we have a class imbalance, so computing class weights to avoid overfitting"
   ]
  },
  {
   "cell_type": "code",
   "execution_count": 6,
   "id": "78ff9ff5",
   "metadata": {},
   "outputs": [
    {
     "data": {
      "text/plain": [
       "tensor([1.0027, 1.0350, 0.9437, 1.0186])"
      ]
     },
     "execution_count": 6,
     "metadata": {},
     "output_type": "execute_result"
    }
   ],
   "source": [
    "# Compute weights using sklearn utility or normalized inverse frequency\n",
    "\n",
    "labels = np.array(df['label_vector'].tolist())\n",
    "\n",
    "# Sum over axis to get counts per class\n",
    "label_counts = labels.sum(axis=0)\n",
    "\n",
    "# Normalize inverse frequency\n",
    "class_weights = len(labels) / (label_counts + 1e-6)\n",
    "class_weights = class_weights / class_weights.sum() * len(class_weights)\n",
    "\n",
    "# Convert to tensor\n",
    "pos_weights = torch.tensor(class_weights, dtype=torch.float).to(device)\n",
    "pos_weights\n"
   ]
  },
  {
   "cell_type": "markdown",
   "id": "0da79040",
   "metadata": {},
   "source": [
    "### splitting data into train,test and validation sets"
   ]
  },
  {
   "cell_type": "code",
   "execution_count": 7,
   "id": "1616e50c",
   "metadata": {},
   "outputs": [],
   "source": [
    "train_texts, temp_texts, train_labels, temp_labels = train_test_split(df['text'], df['label_vector'], test_size=0.3, random_state=42)\n",
    "val_texts, test_texts, val_labels, test_labels = train_test_split(temp_texts, temp_labels, test_size=0.5, random_state=42)\n",
    "#using BERT tokenizer for tokenizing data.....\n",
    "tokenizer = BertTokenizer.from_pretrained(\"bert-base-uncased\")\n",
    "\n",
    "def encode(texts):\n",
    "    return tokenizer(list(texts), padding=True, truncation=True, return_tensors=\"pt\")\n",
    "\n",
    "train_encodings = encode(train_texts)\n",
    "val_encodings = encode(val_texts)\n",
    "test_encodings = encode(test_texts)"
   ]
  },
  {
   "cell_type": "code",
   "execution_count": 8,
   "id": "fc1c1668",
   "metadata": {},
   "outputs": [],
   "source": [
    "#using custom class to transform the data for BERT model\n",
    "class CustomDataset(Dataset):\n",
    "    def __init__(self, encodings, labels):\n",
    "        self.encodings = encodings\n",
    "        self.labels = labels\n",
    "    def __getitem__(self, idx):\n",
    "        item = {key: val[idx] for key, val in self.encodings.items()}\n",
    "        item['labels'] = torch.tensor(self.labels[idx], dtype=torch.float)\n",
    "        return item\n",
    "    def __len__(self):\n",
    "        return len(self.labels)\n",
    "\n",
    "train_dataset = CustomDataset(train_encodings, train_labels.tolist())\n",
    "val_dataset = CustomDataset(val_encodings, val_labels.tolist())\n",
    "test_dataset = CustomDataset(test_encodings, test_labels.tolist())\n",
    "\n",
    "train_loader = DataLoader(train_dataset, batch_size=8, shuffle=True)\n",
    "val_loader = DataLoader(val_dataset, batch_size=8)\n",
    "test_loader = DataLoader(test_dataset, batch_size=8)"
   ]
  },
  {
   "cell_type": "code",
   "execution_count": 9,
   "id": "db257881",
   "metadata": {},
   "outputs": [],
   "source": [
    "#custom class to use a pre-trained BertModel with a custom classification head:\n",
    "class BertForMultiLabel(nn.Module):\n",
    "    def __init__(self, num_labels):\n",
    "        super(BertForMultiLabel, self).__init__()\n",
    "        self.bert = BertModel.from_pretrained('bert-base-uncased')\n",
    "        self.classifier = nn.Linear(self.bert.config.hidden_size, num_labels)\n",
    "\n",
    "    def forward(self, input_ids, attention_mask, labels=None):\n",
    "        outputs = self.bert(input_ids=input_ids, attention_mask=attention_mask)\n",
    "        logits = self.classifier(outputs.pooler_output)  # [batch_size, num_labels]\n",
    "        return logits"
   ]
  },
  {
   "cell_type": "code",
   "execution_count": 10,
   "id": "6df2dd1c",
   "metadata": {},
   "outputs": [
    {
     "name": "stdout",
     "output_type": "stream",
     "text": [
      "BertConfig {\n",
      "  \"architectures\": [\n",
      "    \"BertForMaskedLM\"\n",
      "  ],\n",
      "  \"attention_probs_dropout_prob\": 0.1,\n",
      "  \"classifier_dropout\": null,\n",
      "  \"gradient_checkpointing\": false,\n",
      "  \"hidden_act\": \"gelu\",\n",
      "  \"hidden_dropout_prob\": 0.1,\n",
      "  \"hidden_size\": 768,\n",
      "  \"initializer_range\": 0.02,\n",
      "  \"intermediate_size\": 3072,\n",
      "  \"layer_norm_eps\": 1e-12,\n",
      "  \"max_position_embeddings\": 512,\n",
      "  \"model_type\": \"bert\",\n",
      "  \"num_attention_heads\": 12,\n",
      "  \"num_hidden_layers\": 12,\n",
      "  \"pad_token_id\": 0,\n",
      "  \"position_embedding_type\": \"absolute\",\n",
      "  \"torch_dtype\": \"float32\",\n",
      "  \"transformers_version\": \"4.52.4\",\n",
      "  \"type_vocab_size\": 2,\n",
      "  \"use_cache\": true,\n",
      "  \"vocab_size\": 30522\n",
      "}\n",
      "\n"
     ]
    }
   ],
   "source": [
    "from transformers import BertConfig\n",
    "bert_model = BertModel.from_pretrained('bert-base-uncased')\n",
    "config = bert_model.config\n",
    "print(config)"
   ]
  },
  {
   "cell_type": "code",
   "execution_count": 11,
   "id": "efd8dcbd",
   "metadata": {},
   "outputs": [],
   "source": [
    "model = BertForMultiLabel(num_labels=len(intent_labels))\n",
    "model.to(device)\n",
    "optimizer = AdamW(model.parameters(), lr=2e-5)\n",
    "#BCEWithLogitsLoss for multi-label classification\n",
    "loss_fn = nn.BCEWithLogitsLoss(pos_weight=pos_weights)"
   ]
  },
  {
   "cell_type": "markdown",
   "id": "7b3311a7",
   "metadata": {},
   "source": [
    "Preparing model for training....\n",
    "using train data to train and validation data for validating the model\n",
    "\n",
    "For each epoch, printing the training loss and validation loss... "
   ]
  },
  {
   "cell_type": "code",
   "execution_count": 12,
   "id": "ecb6b6f6",
   "metadata": {},
   "outputs": [
    {
     "name": "stdout",
     "output_type": "stream",
     "text": [
      "Epoch 1\n",
      "Average Training Loss: 0.6703\n",
      "Validation Loss: 0.6756\n",
      "Epoch 2\n",
      "Average Training Loss: 0.6143\n",
      "Validation Loss: 0.6275\n",
      "Epoch 3\n",
      "Average Training Loss: 0.5702\n",
      "Validation Loss: 0.6184\n",
      "Epoch 4\n",
      "Average Training Loss: 0.5353\n",
      "Validation Loss: 0.6400\n",
      "Epoch 5\n",
      "Average Training Loss: 0.5196\n",
      "Validation Loss: 0.5969\n",
      "Epoch 6\n",
      "Average Training Loss: 0.4736\n",
      "Validation Loss: 0.6305\n",
      "Epoch 7\n",
      "Average Training Loss: 0.4527\n",
      "Validation Loss: 0.5669\n",
      "Epoch 8\n",
      "Average Training Loss: 0.4085\n",
      "Validation Loss: 0.5823\n",
      "Epoch 9\n",
      "Average Training Loss: 0.3721\n",
      "Validation Loss: 0.5590\n",
      "Epoch 10\n",
      "Average Training Loss: 0.3290\n",
      "Validation Loss: 0.5287\n",
      "Epoch 11\n",
      "Average Training Loss: 0.2913\n",
      "Validation Loss: 0.4949\n",
      "Epoch 12\n",
      "Average Training Loss: 0.2512\n",
      "Validation Loss: 0.4815\n",
      "Epoch 13\n",
      "Average Training Loss: 0.2227\n",
      "Validation Loss: 0.4672\n",
      "Epoch 14\n",
      "Average Training Loss: 0.1951\n",
      "Validation Loss: 0.4650\n",
      "Epoch 15\n",
      "Average Training Loss: 0.1713\n",
      "Validation Loss: 0.4425\n"
     ]
    }
   ],
   "source": [
    "model.train()\n",
    "for epoch in range(15):\n",
    "    print(f\"Epoch {epoch + 1}\")\n",
    "    total_train_loss = 0\n",
    "\n",
    "    for batch in train_loader:\n",
    "        model.train()\n",
    "        optimizer.zero_grad()\n",
    "\n",
    "        input_ids = batch['input_ids'].to(device)\n",
    "        attention_mask = batch['attention_mask'].to(device)\n",
    "        labels = batch['labels'].to(device)\n",
    "\n",
    "        logits = model(input_ids=input_ids, attention_mask=attention_mask)\n",
    "        loss = loss_fn(logits, labels)\n",
    "        total_train_loss += loss.item()\n",
    "\n",
    "        loss.backward()\n",
    "        optimizer.step()\n",
    "\n",
    "    avg_train_loss = total_train_loss / len(train_loader)\n",
    "    print(f\"Average Training Loss: {avg_train_loss:.4f}\")\n",
    "\n",
    "    # Validation phase\n",
    "    model.eval()\n",
    "    total_val_loss = 0\n",
    "\n",
    "    with torch.no_grad():\n",
    "        for batch in val_loader:\n",
    "            input_ids = batch['input_ids'].to(device)\n",
    "            attention_mask = batch['attention_mask'].to(device)\n",
    "            labels = batch['labels'].to(device)\n",
    "\n",
    "            logits = model(input_ids=input_ids, attention_mask=attention_mask)\n",
    "            loss = loss_fn(logits, labels)\n",
    "            total_val_loss += loss.item()\n",
    "\n",
    "    avg_val_loss = total_val_loss / len(val_loader)\n",
    "    print(f\"Validation Loss: {avg_val_loss:.4f}\")\n"
   ]
  },
  {
   "cell_type": "code",
   "execution_count": null,
   "id": "37c26e6f",
   "metadata": {},
   "outputs": [],
   "source": []
  },
  {
   "cell_type": "markdown",
   "id": "d01665e2",
   "metadata": {},
   "source": [
    "Evaluating the trained model using following metrics...\n",
    "1. hamming_loss - measures the fraction of incorrect labels to the total number of labels, across all instances.\n",
    "2. precision_score.\n",
    "3. recall_scor. \n",
    "4. f1_score.\n",
    "5. subset accuracy_score - all the predicted labels exactly match all the true labels "
   ]
  },
  {
   "cell_type": "code",
   "execution_count": 16,
   "id": "b7972194",
   "metadata": {},
   "outputs": [],
   "source": [
    "from sklearn.metrics import hamming_loss, precision_score, recall_score, f1_score, accuracy_score\n",
    "import numpy as np\n",
    "\n",
    "def evaluate(model, dataloader, device):\n",
    "    model.eval()\n",
    "    preds, true_labels = [], []\n",
    "\n",
    "    with torch.no_grad():\n",
    "        for batch in dataloader:\n",
    "            input_ids = batch['input_ids'].to(device)\n",
    "            attention_mask = batch['attention_mask'].to(device)\n",
    "            labels = batch['labels'].to(device)\n",
    "\n",
    "            outputs = model(input_ids, attention_mask=attention_mask)\n",
    "            #logits = outputs.logits\n",
    "            sigmoid_logits = torch.sigmoid(outputs)\n",
    "            preds.extend(sigmoid_logits.cpu().numpy())\n",
    "            true_labels.extend(labels.cpu().numpy())\n",
    "\n",
    "    preds = np.array(preds)\n",
    "    true_labels = np.array(true_labels)\n",
    "    binarized_preds = (preds >= 0.5).astype(int)\n",
    "\n",
    "    metrics = {\n",
    "        'Hamming Loss': hamming_loss(true_labels, binarized_preds),\n",
    "        'Precision': precision_score(true_labels, binarized_preds, average='macro', zero_division=0),\n",
    "        'Recall': recall_score(true_labels, binarized_preds, average='macro', zero_division=0),\n",
    "        'F1 Score': f1_score(true_labels, binarized_preds, average='macro', zero_division=0),\n",
    "        'Subset Accuracy': accuracy_score(true_labels, binarized_preds)\n",
    "    }\n",
    "    return metrics\n"
   ]
  },
  {
   "cell_type": "code",
   "execution_count": 17,
   "id": "6597c637",
   "metadata": {},
   "outputs": [
    {
     "name": "stdout",
     "output_type": "stream",
     "text": [
      "Test Metrics: {'Hamming Loss': 0.05, 'Precision': 0.9295454545454546, 'Recall': 1.0, 'F1 Score': 0.9618421052631578, 'Subset Accuracy': 0.8}\n"
     ]
    }
   ],
   "source": [
    "test_metrics = evaluate(model, test_loader, device)#device\n",
    "\n",
    "print(\"Test Metrics:\", test_metrics)"
   ]
  },
  {
   "cell_type": "code",
   "execution_count": 18,
   "id": "c62d9374",
   "metadata": {},
   "outputs": [
    {
     "name": "stdout",
     "output_type": "stream",
     "text": [
      "['Product Inquiry', 'Store Policy']\n",
      "['Order Tracking', 'Product Inquiry', 'Refund Request']\n",
      "['Refund Request']\n"
     ]
    }
   ],
   "source": [
    "def predict(text):\n",
    "    inputs = tokenizer(text, return_tensors=\"pt\", truncation=True, padding=True)\n",
    "    with torch.no_grad():\n",
    "        outputs = model(inputs[\"input_ids\"], inputs[\"attention_mask\"])\n",
    "        probs = torch.sigmoid(outputs)\n",
    "        preds = outputs[0].numpy()\n",
    "        intents = [mlb.classes_[i] for i, p in enumerate(probs[0]) if p > 0.8]\n",
    "    return intents\n",
    "\n",
    "print(predict(\"I’d like to request a refund for my recent order and also get more details about your latest laptop models.\"))\n",
    "print(predict('would like to get details about product i received is different from the one that i placed shipment, need help with repayment. i have been waiting for the order long time do you have this product in stock?'))\n",
    "print(predict('How can I get a refund for my order #56789?'))"
   ]
  },
  {
   "cell_type": "code",
   "execution_count": null,
   "id": "ee3792d8",
   "metadata": {},
   "outputs": [],
   "source": []
  },
  {
   "cell_type": "code",
   "execution_count": null,
   "id": "a64b077a",
   "metadata": {},
   "outputs": [],
   "source": []
  }
 ],
 "metadata": {
  "kernelspec": {
   "display_name": "agentsenv",
   "language": "python",
   "name": "myenv"
  },
  "language_info": {
   "codemirror_mode": {
    "name": "ipython",
    "version": 3
   },
   "file_extension": ".py",
   "mimetype": "text/x-python",
   "name": "python",
   "nbconvert_exporter": "python",
   "pygments_lexer": "ipython3",
   "version": "3.10.17"
  },
  "varInspector": {
   "cols": {
    "lenName": 16,
    "lenType": 16,
    "lenVar": 40
   },
   "kernels_config": {
    "python": {
     "delete_cmd_postfix": "",
     "delete_cmd_prefix": "del ",
     "library": "var_list.py",
     "varRefreshCmd": "print(var_dic_list())"
    },
    "r": {
     "delete_cmd_postfix": ") ",
     "delete_cmd_prefix": "rm(",
     "library": "var_list.r",
     "varRefreshCmd": "cat(var_dic_list()) "
    }
   },
   "types_to_exclude": [
    "module",
    "function",
    "builtin_function_or_method",
    "instance",
    "_Feature"
   ],
   "window_display": false
  }
 },
 "nbformat": 4,
 "nbformat_minor": 5
}
