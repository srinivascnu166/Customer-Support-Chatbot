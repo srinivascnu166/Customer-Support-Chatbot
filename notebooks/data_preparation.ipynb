{
 "cells": [
  {
   "cell_type": "markdown",
   "id": "0ca42258",
   "metadata": {},
   "source": [
    "# Problem Statement: Multi-Intent Classification for Customer Support Chatbot"
   ]
  },
  {
   "cell_type": "markdown",
   "id": "8edaeffb",
   "metadata": {},
   "source": [
    "## Data Preparation"
   ]
  },
  {
   "cell_type": "markdown",
   "id": "3adc37e8",
   "metadata": {},
   "source": [
    "As we don't have enough data to train our Model, lets use augment techniques to create more data for training"
   ]
  },
  {
   "cell_type": "markdown",
   "id": "11248546",
   "metadata": {},
   "source": [
    "# step-1:\n",
    "Gather possible queries for each intent, for example....<br>\n",
    "\n",
    "<code>\"Product Inquiry\": [\n",
    "        \"What are the features of this laptop?\",\n",
    "        \"Is this phone available?\",\n",
    "        \"What is the price of the new headphones?\"]</code>\n",
    "# step-2:\n",
    "Lets replace some wors with synonyms\n",
    "example:<br>\n",
    "<code>How do I get a refund?</code>\n",
    "        <br>after applying synonyms the above query would become<br>\n",
    "        <code>How do I get a {repayment}?</code><br>\n",
    "        <code>How do I get a {money back}?</code>\n",
    "        \n",
    "# step-3:\n",
    "Lets use some templates to modify/change the intent queries\n",
    "using this tempaltes would make our queries more diverse and coherent\n",
    "for example using template <code>Can you tell me {}?</code> for <code>What are the features of this laptop?</code> <br>would change the exesting intent into<br> <code>Can you tell me {What are the features of this laptop?}?</code>\n",
    "<br>\n",
    "here the contraction technique for some word also being used line <code>isn't\": \"is not\"</code>\n",
    "        <code>\"aren't\": \"are not\"</code>\n",
    "    \n",
    "    \n",
    "# step-4:\n",
    "Now using the above three steps we augment the data with applying synonyms and templates with random sampling and generate multiple combinations of diverse data."
   ]
  },
  {
   "cell_type": "code",
   "execution_count": 1,
   "id": "4c36649f",
   "metadata": {},
   "outputs": [],
   "source": [
    "import re\n",
    "import random\n",
    "import math\n",
    "import csv\n",
    "import pandas as pd\n",
    "from datetime import datetime\n",
    "from itertools import combinations"
   ]
  },
  {
   "cell_type": "code",
   "execution_count": 2,
   "id": "0347c71a",
   "metadata": {},
   "outputs": [],
   "source": [
    "\n",
    "\n",
    "# Original intents dictionary\n",
    "intents = {\n",
    "    \"Product Inquiry\": [\n",
    "        \"What are the features of this laptop?\",\n",
    "        \"Is this phone available?\",\n",
    "        \"What is the price of the new headphones?\",\n",
    "        \"Do you have this product in stock?\",\n",
    "        \"Expected availability date for the product\",\n",
    "        \"What are the different color options that are available for the product?\",\n",
    "        \"Help me with the products that have discounts\",\n",
    "    ],\n",
    "    \"Order Tracking\": [\n",
    "        \"Where is my order?\",\n",
    "        \"How long will delivery take?\",\n",
    "        \"Can you provide the tracking details?\",\n",
    "        \"I want to check the status of my shipment.\",\n",
    "        \"There is delay in the order delivery, can you please let me know the reason\",\n",
    "        \"System shows that order is delivered but I have not received any order\",\n",
    "        \"I've been waiting for the order long time\"\n",
    "    ],\n",
    "    \"Refund Request\": [\n",
    "        \"How do I get a refund?\",\n",
    "        \"Can I return my order?\",\n",
    "        \"What is the process for a refund?\",\n",
    "        \"Can I cancel my order and get a refund?\",\n",
    "        \"It's been long time since I have raised the refund, but amount is not credited\",\n",
    "        \"When can I expect the refund to be processed\",\n",
    "        \"I don't want this product anymore\",\n",
    "        \"Product I received is different from the one that I placed order, need help with refund\",\n",
    "    ],\n",
    "    \"Store Policy\": [\n",
    "        \"What is your return policy?\",\n",
    "        \"Do you offer free shipping?\",\n",
    "        \"Can you explain your warranty terms?\",\n",
    "        \"What are the delivery charges?\",\n",
    "        \"What are the options for free delivery\",\n",
    "    ],\n",
    "}\n",
    "\n",
    "# Simple paraphrase templates\n",
    "paraphrase_templates = [\n",
    "    \"Can you tell me {}?\",\n",
    "    \"I need info on {}.\",\n",
    "    \"Could you explain {}?\",\n",
    "    \"I'm looking to know {}.\",\n",
    "    \"Please help me understand {}.\",\n",
    "    \"Would like to get details about {}.\",\n",
    "    \"{} please?\",\n",
    "    \"Need help with {}.\",\n",
    "]\n",
    "\n",
    "# Synonym dictionary\n",
    "synonyms = {\n",
    "    \"product\": [\"item\", \"goods\"],\n",
    "    \"refund\": [\"repayment\", \"money back\"],\n",
    "    \"order\": [\"purchase\", \"shipment\"],\n",
    "    \"delivery\": [\"shipping\", \"dispatch\"],\n",
    "    \"available\": [\"in stock\", \"in store\"],\n",
    "    \"features\": [\"specs\", \"specifications\"],\n",
    "    \"price\": [\"cost\", \"rate\"]\n",
    "}\n",
    "\n",
    "def augment_phrase(phrase):\n",
    "    modified = phrase\n",
    "    for key, syns in synonyms.items():\n",
    "        if key in modified.lower():\n",
    "            replacement = random.choice(syns)\n",
    "            modified = modified.replace(key, replacement)\n",
    "    template = random.choice(paraphrase_templates)\n",
    "    return template.format(modified.lower().capitalize())\n",
    "\n",
    "def generate_multi_intent_data(intents_dict, total_samples=100, max_combination_size=2):\n",
    "    intent_names = list(intents_dict.keys())\n",
    "    synthetic_data = []\n",
    "\n",
    "    while len(synthetic_data) < total_samples:\n",
    "        # Randomly select how many intents to combine\n",
    "        k = random.randint(2, max_combination_size)\n",
    "        intent_combo = random.sample(intent_names, k)\n",
    "\n",
    "        queries = []\n",
    "        for intent in intent_combo:\n",
    "            phrase = random.choice(intents_dict[intent])\n",
    "            if random.random() < 0.7:\n",
    "                phrase = augment_phrase(phrase)\n",
    "            queries.append(phrase)\n",
    "\n",
    "        full_query = \" \".join(queries)\n",
    "        synthetic_data.append((full_query.strip(), intent_combo))\n",
    "\n",
    "    return synthetic_data\n",
    "\n",
    "def save_to_csv(data, filename=\"multi_intent.csv\"):\n",
    "    with open(filename, mode='w', newline='', encoding='utf-8') as f:\n",
    "        writer = csv.writer(f)\n",
    "        writer.writerow([\"text\", \"intents\"])\n",
    "        for text, intents in data:\n",
    "            text = preprocess_query(text)\n",
    "            writer.writerow([text, intents])\n",
    "    print(f\"Data saved to {filename}\")\n",
    "\n",
    "def expand_contractions(text):\n",
    "    contractions_dict = {\n",
    "        \"don't\": \"do not\",\n",
    "        \"can't\": \"cannot\",\n",
    "        \"won't\": \"will not\",\n",
    "        \"i'm\": \"i am\",\n",
    "        \"you're\": \"you are\",\n",
    "        \"it's\": \"it is\",\n",
    "        \"i've\": \"i have\",\n",
    "        \"we've\": \"we have\",\n",
    "        \"they've\": \"they have\",\n",
    "        \"i'll\": \"i will\",\n",
    "        \"you'll\": \"you will\",\n",
    "        \"they'll\": \"they will\",\n",
    "        \"isn't\": \"is not\",\n",
    "        \"aren't\": \"are not\",\n",
    "        \"wasn't\": \"was not\",\n",
    "        \"weren't\": \"were not\",\n",
    "        \"couldn't\": \"could not\",\n",
    "        \"shouldn't\": \"should not\",\n",
    "        \"wouldn't\": \"would not\",\n",
    "        \"doesn't\": \"does not\",\n",
    "        \"didn't\": \"did not\",\n",
    "        \"haven't\": \"have not\",\n",
    "        \"hasn't\": \"has not\",\n",
    "        \"hadn't\": \"had not\",\n",
    "        \"that'll\": \"that will\",\n",
    "        \"??\":'?'\n",
    "    }\n",
    "\n",
    "    # Escaping all keys before joining them into regex\n",
    "    pattern = re.compile(r'\\b(' + '|'.join(re.escape(k) for k in contractions_dict.keys()) + r')\\b', flags=re.IGNORECASE)\n",
    "    return pattern.sub(lambda x: contractions_dict[x.group().lower()], text)\n",
    "\n",
    "\n",
    "\n",
    "def preprocess_query(query):\n",
    "    query = expand_contractions(query)\n",
    "    query = query.lower()\n",
    "    \n",
    "    return query"
   ]
  },
  {
   "cell_type": "markdown",
   "id": "8fd83e57",
   "metadata": {},
   "source": [
    "# Applying all augment techniques to generate 100 samples of data"
   ]
  },
  {
   "cell_type": "code",
   "execution_count": 3,
   "id": "17fc4155",
   "metadata": {},
   "outputs": [
    {
     "name": "stdout",
     "output_type": "stream",
     "text": [
      "Data saved to prepared_data.csv\n",
      "('Could you explain What is your return policy?? I need info on Do you have this goods in stock?.', ['Store Policy', 'Product Inquiry'])\n",
      "(\"What are the different color options that are in stock for the item? please? Would like to get details about What is your return policy?. Can you tell me I've been waiting for the shipment long time?\", ['Product Inquiry', 'Store Policy', 'Order Tracking'])\n",
      "(\"Can you explain your warranty terms? Would like to get details about I don't want this goods anymore.\", ['Store Policy', 'Refund Request'])\n",
      "(\"Would like to get details about Can you provide the tracking details?. Need help with Do you offer free shipping?. Could you explain I don't want this item anymore?\", ['Order Tracking', 'Store Policy', 'Refund Request'])\n",
      "(\"Could you explain Do you have this goods in stock?? It's been long time since I have raised the refund, but amount is not credited Could you explain How long will shipping take??\", ['Product Inquiry', 'Refund Request', 'Order Tracking'])\n"
     ]
    }
   ],
   "source": [
    "multi_intent_dataset = generate_multi_intent_data(intents, total_samples=100, max_combination_size=3)\n",
    "\n",
    "save_to_csv(multi_intent_dataset, f\"prepared_data.csv\")\n",
    "# Preview\n",
    "for i in range(5):\n",
    "    print(multi_intent_dataset[i])\n"
   ]
  },
  {
   "cell_type": "code",
   "execution_count": 6,
   "id": "2528a90d",
   "metadata": {},
   "outputs": [
    {
     "data": {
      "text/html": [
       "<div>\n",
       "<style scoped>\n",
       "    .dataframe tbody tr th:only-of-type {\n",
       "        vertical-align: middle;\n",
       "    }\n",
       "\n",
       "    .dataframe tbody tr th {\n",
       "        vertical-align: top;\n",
       "    }\n",
       "\n",
       "    .dataframe thead th {\n",
       "        text-align: right;\n",
       "    }\n",
       "</style>\n",
       "<table border=\"1\" class=\"dataframe\">\n",
       "  <thead>\n",
       "    <tr style=\"text-align: right;\">\n",
       "      <th></th>\n",
       "      <th>text</th>\n",
       "      <th>intents</th>\n",
       "    </tr>\n",
       "  </thead>\n",
       "  <tbody>\n",
       "    <tr>\n",
       "      <th>0</th>\n",
       "      <td>could you explain what is your return policy??...</td>\n",
       "      <td>['Store Policy', 'Product Inquiry']</td>\n",
       "    </tr>\n",
       "    <tr>\n",
       "      <th>1</th>\n",
       "      <td>what are the different color options that are ...</td>\n",
       "      <td>['Product Inquiry', 'Store Policy', 'Order Tra...</td>\n",
       "    </tr>\n",
       "    <tr>\n",
       "      <th>2</th>\n",
       "      <td>can you explain your warranty terms? would lik...</td>\n",
       "      <td>['Store Policy', 'Refund Request']</td>\n",
       "    </tr>\n",
       "    <tr>\n",
       "      <th>3</th>\n",
       "      <td>would like to get details about can you provid...</td>\n",
       "      <td>['Order Tracking', 'Store Policy', 'Refund Req...</td>\n",
       "    </tr>\n",
       "    <tr>\n",
       "      <th>4</th>\n",
       "      <td>could you explain do you have this goods in st...</td>\n",
       "      <td>['Product Inquiry', 'Refund Request', 'Order T...</td>\n",
       "    </tr>\n",
       "  </tbody>\n",
       "</table>\n",
       "</div>"
      ],
      "text/plain": [
       "                                                text  \\\n",
       "0  could you explain what is your return policy??...   \n",
       "1  what are the different color options that are ...   \n",
       "2  can you explain your warranty terms? would lik...   \n",
       "3  would like to get details about can you provid...   \n",
       "4  could you explain do you have this goods in st...   \n",
       "\n",
       "                                             intents  \n",
       "0                ['Store Policy', 'Product Inquiry']  \n",
       "1  ['Product Inquiry', 'Store Policy', 'Order Tra...  \n",
       "2                 ['Store Policy', 'Refund Request']  \n",
       "3  ['Order Tracking', 'Store Policy', 'Refund Req...  \n",
       "4  ['Product Inquiry', 'Refund Request', 'Order T...  "
      ]
     },
     "execution_count": 6,
     "metadata": {},
     "output_type": "execute_result"
    }
   ],
   "source": [
    "data = pd.read_csv('prepared_data.csv')\n",
    "data.head()"
   ]
  },
  {
   "cell_type": "markdown",
   "id": "df2f8bd6",
   "metadata": {},
   "source": [
    " From here on we will be using this data for our Model training....."
   ]
  },
  {
   "cell_type": "code",
   "execution_count": null,
   "id": "a2adb5e2",
   "metadata": {},
   "outputs": [],
   "source": []
  }
 ],
 "metadata": {
  "kernelspec": {
   "display_name": "Python 3 (ipykernel)",
   "language": "python",
   "name": "python3"
  },
  "language_info": {
   "codemirror_mode": {
    "name": "ipython",
    "version": 3
   },
   "file_extension": ".py",
   "mimetype": "text/x-python",
   "name": "python",
   "nbconvert_exporter": "python",
   "pygments_lexer": "ipython3",
   "version": "3.10.9"
  },
  "varInspector": {
   "cols": {
    "lenName": 16,
    "lenType": 16,
    "lenVar": 40
   },
   "kernels_config": {
    "python": {
     "delete_cmd_postfix": "",
     "delete_cmd_prefix": "del ",
     "library": "var_list.py",
     "varRefreshCmd": "print(var_dic_list())"
    },
    "r": {
     "delete_cmd_postfix": ") ",
     "delete_cmd_prefix": "rm(",
     "library": "var_list.r",
     "varRefreshCmd": "cat(var_dic_list()) "
    }
   },
   "types_to_exclude": [
    "module",
    "function",
    "builtin_function_or_method",
    "instance",
    "_Feature"
   ],
   "window_display": false
  }
 },
 "nbformat": 4,
 "nbformat_minor": 5
}
